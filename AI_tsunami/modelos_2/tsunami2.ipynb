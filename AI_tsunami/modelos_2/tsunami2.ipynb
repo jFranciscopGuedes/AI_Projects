{
 "cells": [
  {
   "cell_type": "markdown",
   "id": "cd3e6c6d",
   "metadata": {},
   "source": [
    "\"Dado um terremoto recém-registrado, este evento tem alto risco de gerar um tsunami?\""
   ]
  },
  {
   "cell_type": "code",
   "execution_count": 2,
   "id": "f4ade208",
   "metadata": {},
   "outputs": [
    {
     "name": "stdout",
     "output_type": "stream",
     "text": [
      "Fitting 5 folds for each of 25 candidates, totalling 125 fits\n",
      "Melhor modelo:\n",
      "Pipeline(steps=[('scaler', RobustScaler()),\n",
      "                ('model',\n",
      "                 GradientBoostingClassifier(learning_rate=0.01, max_depth=5))])\n",
      "Score médio CV: 0.9385276917784656\n",
      "\n",
      "Classification Report:\n",
      "               precision    recall  f1-score   support\n",
      "\n",
      "           0       0.97      0.93      0.95        96\n",
      "           1       0.89      0.95      0.92        61\n",
      "\n",
      "    accuracy                           0.94       157\n",
      "   macro avg       0.93      0.94      0.93       157\n",
      "weighted avg       0.94      0.94      0.94       157\n",
      "\n",
      "\n",
      "Confusion Matrix:\n",
      " [[89  7]\n",
      " [ 3 58]]\n"
     ]
    }
   ],
   "source": [
    "import pandas as pd\n",
    "from sklearn.model_selection import train_test_split, GridSearchCV\n",
    "from sklearn.pipeline import Pipeline\n",
    "from sklearn.preprocessing import RobustScaler\n",
    "from sklearn.ensemble import RandomForestClassifier, GradientBoostingClassifier\n",
    "from sklearn.svm import SVC\n",
    "from sklearn.linear_model import LogisticRegression\n",
    "from sklearn.metrics import classification_report, confusion_matrix\n",
    "from imblearn.over_sampling import SMOTE\n",
    "\n",
    "# Carregar dataset\n",
    "df = pd.read_csv(\"earthquake_data_tsunami.csv\")\n",
    "\n",
    "# Features e target\n",
    "X = df.drop(columns=['tsunami'])\n",
    "y = df['tsunami']\n",
    "\n",
    "# Dividir treino/teste\n",
    "Xtrain, Xtest, ytrain, ytest = train_test_split(X, y, test_size=0.2, random_state=42, stratify=y)\n",
    "\n",
    "# Pipeline de pré-processamento + modelo\n",
    "pipe = Pipeline([\n",
    "    ('scaler', RobustScaler()),\n",
    "    ('model', RandomForestClassifier())\n",
    "])\n",
    "\n",
    "# Param grid com vários modelos\n",
    "param_grid = [\n",
    "    {\n",
    "        'model': [RandomForestClassifier()],\n",
    "        'model__n_estimators': [100, 200],\n",
    "        'model__max_depth': [None, 5, 10]\n",
    "    },\n",
    "    {\n",
    "        'model': [GradientBoostingClassifier()],\n",
    "        'model__n_estimators': [100, 200],\n",
    "        'model__learning_rate': [0.01, 0.1],\n",
    "        'model__max_depth': [3, 5]\n",
    "    },\n",
    "    {\n",
    "        'model': [SVC()],\n",
    "        'model__C': [1, 5],\n",
    "        'model__kernel': ['linear', 'rbf'],\n",
    "        'model__gamma': ['scale', 'auto']\n",
    "    },\n",
    "    {\n",
    "        'model': [LogisticRegression(max_iter=1000)],\n",
    "        'model__C': [0.1, 1, 10],\n",
    "        'model__solver': ['lbfgs']\n",
    "    }\n",
    "]\n",
    "\n",
    "# Balanceamento com SMOTE\n",
    "Xtrain_bal, ytrain_bal = SMOTE(random_state=42).fit_resample(Xtrain, ytrain)\n",
    "\n",
    "# Grid Search\n",
    "search = GridSearchCV(pipe, param_grid, cv=5, n_jobs=-1, verbose=2)\n",
    "search.fit(Xtrain_bal, ytrain_bal)\n",
    "\n",
    "# Melhor modelo\n",
    "best_model = search.best_estimator_\n",
    "print(\"Melhor modelo:\")\n",
    "print(best_model)\n",
    "print(\"Score médio CV:\", search.best_score_)\n",
    "\n",
    "# Avaliação no teste\n",
    "y_pred = best_model.predict(Xtest)\n",
    "print(\"\\nClassification Report:\\n\", classification_report(ytest, y_pred))\n",
    "print(\"\\nConfusion Matrix:\\n\", confusion_matrix(ytest, y_pred))\n"
   ]
  },
  {
   "cell_type": "code",
   "execution_count": null,
   "id": "c99e3dcd",
   "metadata": {},
   "outputs": [],
   "source": []
  }
 ],
 "metadata": {
  "kernelspec": {
   "display_name": "base",
   "language": "python",
   "name": "python3"
  },
  "language_info": {
   "codemirror_mode": {
    "name": "ipython",
    "version": 3
   },
   "file_extension": ".py",
   "mimetype": "text/x-python",
   "name": "python",
   "nbconvert_exporter": "python",
   "pygments_lexer": "ipython3",
   "version": "3.12.4"
  }
 },
 "nbformat": 4,
 "nbformat_minor": 5
}
