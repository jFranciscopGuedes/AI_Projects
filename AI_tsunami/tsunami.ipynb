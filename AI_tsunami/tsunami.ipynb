{
 "cells": [
  {
   "cell_type": "markdown",
   "id": "da87c447",
   "metadata": {},
   "source": [
    "# \"Dado um terremoto recém-registrado, este evento tem alto risco de gerar um tsunami?\""
   ]
  },
  {
   "cell_type": "code",
   "execution_count": 1,
   "id": "789e5ce4",
   "metadata": {},
   "outputs": [],
   "source": [
    "import pandas as pd #pd modulo do pandas"
   ]
  },
  {
   "cell_type": "code",
   "execution_count": 2,
   "id": "85658a05",
   "metadata": {},
   "outputs": [],
   "source": [
    "df = pd.read_csv(\"earthquake_data_tsunami.csv\")"
   ]
  },
  {
   "cell_type": "code",
   "execution_count": 3,
   "id": "c5714179",
   "metadata": {},
   "outputs": [
    {
     "data": {
      "text/html": [
       "<div>\n",
       "<style scoped>\n",
       "    .dataframe tbody tr th:only-of-type {\n",
       "        vertical-align: middle;\n",
       "    }\n",
       "\n",
       "    .dataframe tbody tr th {\n",
       "        vertical-align: top;\n",
       "    }\n",
       "\n",
       "    .dataframe thead th {\n",
       "        text-align: right;\n",
       "    }\n",
       "</style>\n",
       "<table border=\"1\" class=\"dataframe\">\n",
       "  <thead>\n",
       "    <tr style=\"text-align: right;\">\n",
       "      <th></th>\n",
       "      <th>magnitude</th>\n",
       "      <th>cdi</th>\n",
       "      <th>mmi</th>\n",
       "      <th>sig</th>\n",
       "      <th>nst</th>\n",
       "      <th>dmin</th>\n",
       "      <th>gap</th>\n",
       "      <th>depth</th>\n",
       "      <th>latitude</th>\n",
       "      <th>longitude</th>\n",
       "      <th>Year</th>\n",
       "      <th>Month</th>\n",
       "      <th>tsunami</th>\n",
       "    </tr>\n",
       "  </thead>\n",
       "  <tbody>\n",
       "    <tr>\n",
       "      <th>671</th>\n",
       "      <td>6.8</td>\n",
       "      <td>4</td>\n",
       "      <td>7</td>\n",
       "      <td>724</td>\n",
       "      <td>759</td>\n",
       "      <td>0.000</td>\n",
       "      <td>23.6</td>\n",
       "      <td>35.00</td>\n",
       "      <td>42.9000</td>\n",
       "      <td>145.228</td>\n",
       "      <td>2004</td>\n",
       "      <td>12</td>\n",
       "      <td>0</td>\n",
       "    </tr>\n",
       "    <tr>\n",
       "      <th>298</th>\n",
       "      <td>6.9</td>\n",
       "      <td>1</td>\n",
       "      <td>4</td>\n",
       "      <td>732</td>\n",
       "      <td>0</td>\n",
       "      <td>4.024</td>\n",
       "      <td>22.0</td>\n",
       "      <td>11.19</td>\n",
       "      <td>-11.0559</td>\n",
       "      <td>163.696</td>\n",
       "      <td>2015</td>\n",
       "      <td>5</td>\n",
       "      <td>1</td>\n",
       "    </tr>\n",
       "    <tr>\n",
       "      <th>31</th>\n",
       "      <td>6.6</td>\n",
       "      <td>8</td>\n",
       "      <td>6</td>\n",
       "      <td>785</td>\n",
       "      <td>0</td>\n",
       "      <td>2.418</td>\n",
       "      <td>22.0</td>\n",
       "      <td>33.00</td>\n",
       "      <td>-6.9291</td>\n",
       "      <td>105.251</td>\n",
       "      <td>2022</td>\n",
       "      <td>1</td>\n",
       "      <td>0</td>\n",
       "    </tr>\n",
       "    <tr>\n",
       "      <th>604</th>\n",
       "      <td>6.9</td>\n",
       "      <td>0</td>\n",
       "      <td>7</td>\n",
       "      <td>732</td>\n",
       "      <td>305</td>\n",
       "      <td>0.000</td>\n",
       "      <td>15.3</td>\n",
       "      <td>10.00</td>\n",
       "      <td>-7.3060</td>\n",
       "      <td>155.741</td>\n",
       "      <td>2007</td>\n",
       "      <td>4</td>\n",
       "      <td>0</td>\n",
       "    </tr>\n",
       "    <tr>\n",
       "      <th>716</th>\n",
       "      <td>6.5</td>\n",
       "      <td>0</td>\n",
       "      <td>6</td>\n",
       "      <td>650</td>\n",
       "      <td>156</td>\n",
       "      <td>0.000</td>\n",
       "      <td>31.4</td>\n",
       "      <td>33.00</td>\n",
       "      <td>-3.8280</td>\n",
       "      <td>152.174</td>\n",
       "      <td>2003</td>\n",
       "      <td>7</td>\n",
       "      <td>0</td>\n",
       "    </tr>\n",
       "  </tbody>\n",
       "</table>\n",
       "</div>"
      ],
      "text/plain": [
       "     magnitude  cdi  mmi  sig  nst   dmin   gap  depth  latitude  longitude  \\\n",
       "671        6.8    4    7  724  759  0.000  23.6  35.00   42.9000    145.228   \n",
       "298        6.9    1    4  732    0  4.024  22.0  11.19  -11.0559    163.696   \n",
       "31         6.6    8    6  785    0  2.418  22.0  33.00   -6.9291    105.251   \n",
       "604        6.9    0    7  732  305  0.000  15.3  10.00   -7.3060    155.741   \n",
       "716        6.5    0    6  650  156  0.000  31.4  33.00   -3.8280    152.174   \n",
       "\n",
       "     Year  Month  tsunami  \n",
       "671  2004     12        0  \n",
       "298  2015      5        1  \n",
       "31   2022      1        0  \n",
       "604  2007      4        0  \n",
       "716  2003      7        0  "
      ]
     },
     "execution_count": 3,
     "metadata": {},
     "output_type": "execute_result"
    }
   ],
   "source": [
    "df.sample(5)"
   ]
  },
  {
   "cell_type": "code",
   "execution_count": 4,
   "id": "e8edd290",
   "metadata": {},
   "outputs": [
    {
     "data": {
      "text/plain": [
       "(782, 13)"
      ]
     },
     "execution_count": 4,
     "metadata": {},
     "output_type": "execute_result"
    }
   ],
   "source": [
    "df.shape"
   ]
  },
  {
   "cell_type": "code",
   "execution_count": 5,
   "id": "4279c507",
   "metadata": {},
   "outputs": [
    {
     "data": {
      "text/html": [
       "<div>\n",
       "<style scoped>\n",
       "    .dataframe tbody tr th:only-of-type {\n",
       "        vertical-align: middle;\n",
       "    }\n",
       "\n",
       "    .dataframe tbody tr th {\n",
       "        vertical-align: top;\n",
       "    }\n",
       "\n",
       "    .dataframe thead th {\n",
       "        text-align: right;\n",
       "    }\n",
       "</style>\n",
       "<table border=\"1\" class=\"dataframe\">\n",
       "  <thead>\n",
       "    <tr style=\"text-align: right;\">\n",
       "      <th></th>\n",
       "      <th>magnitude</th>\n",
       "      <th>cdi</th>\n",
       "      <th>mmi</th>\n",
       "      <th>sig</th>\n",
       "      <th>nst</th>\n",
       "      <th>dmin</th>\n",
       "      <th>gap</th>\n",
       "      <th>depth</th>\n",
       "      <th>latitude</th>\n",
       "      <th>longitude</th>\n",
       "      <th>Year</th>\n",
       "      <th>Month</th>\n",
       "      <th>tsunami</th>\n",
       "    </tr>\n",
       "  </thead>\n",
       "  <tbody>\n",
       "    <tr>\n",
       "      <th>count</th>\n",
       "      <td>782.000000</td>\n",
       "      <td>782.000000</td>\n",
       "      <td>782.000000</td>\n",
       "      <td>782.000000</td>\n",
       "      <td>782.000000</td>\n",
       "      <td>782.000000</td>\n",
       "      <td>782.000000</td>\n",
       "      <td>782.000000</td>\n",
       "      <td>782.000000</td>\n",
       "      <td>782.000000</td>\n",
       "      <td>782.000000</td>\n",
       "      <td>782.000000</td>\n",
       "      <td>782.000000</td>\n",
       "    </tr>\n",
       "    <tr>\n",
       "      <th>mean</th>\n",
       "      <td>6.941125</td>\n",
       "      <td>4.333760</td>\n",
       "      <td>5.964194</td>\n",
       "      <td>870.108696</td>\n",
       "      <td>230.250639</td>\n",
       "      <td>1.325757</td>\n",
       "      <td>25.038990</td>\n",
       "      <td>75.883199</td>\n",
       "      <td>3.538100</td>\n",
       "      <td>52.609199</td>\n",
       "      <td>2012.280051</td>\n",
       "      <td>6.563939</td>\n",
       "      <td>0.388747</td>\n",
       "    </tr>\n",
       "    <tr>\n",
       "      <th>std</th>\n",
       "      <td>0.445514</td>\n",
       "      <td>3.169939</td>\n",
       "      <td>1.462724</td>\n",
       "      <td>322.465367</td>\n",
       "      <td>250.188177</td>\n",
       "      <td>2.218805</td>\n",
       "      <td>24.225067</td>\n",
       "      <td>137.277078</td>\n",
       "      <td>27.303429</td>\n",
       "      <td>117.898886</td>\n",
       "      <td>6.099439</td>\n",
       "      <td>3.507866</td>\n",
       "      <td>0.487778</td>\n",
       "    </tr>\n",
       "    <tr>\n",
       "      <th>min</th>\n",
       "      <td>6.500000</td>\n",
       "      <td>0.000000</td>\n",
       "      <td>1.000000</td>\n",
       "      <td>650.000000</td>\n",
       "      <td>0.000000</td>\n",
       "      <td>0.000000</td>\n",
       "      <td>0.000000</td>\n",
       "      <td>2.700000</td>\n",
       "      <td>-61.848400</td>\n",
       "      <td>-179.968000</td>\n",
       "      <td>2001.000000</td>\n",
       "      <td>1.000000</td>\n",
       "      <td>0.000000</td>\n",
       "    </tr>\n",
       "    <tr>\n",
       "      <th>25%</th>\n",
       "      <td>6.600000</td>\n",
       "      <td>0.000000</td>\n",
       "      <td>5.000000</td>\n",
       "      <td>691.000000</td>\n",
       "      <td>0.000000</td>\n",
       "      <td>0.000000</td>\n",
       "      <td>14.625000</td>\n",
       "      <td>14.000000</td>\n",
       "      <td>-14.595600</td>\n",
       "      <td>-71.668050</td>\n",
       "      <td>2007.000000</td>\n",
       "      <td>3.250000</td>\n",
       "      <td>0.000000</td>\n",
       "    </tr>\n",
       "    <tr>\n",
       "      <th>50%</th>\n",
       "      <td>6.800000</td>\n",
       "      <td>5.000000</td>\n",
       "      <td>6.000000</td>\n",
       "      <td>754.000000</td>\n",
       "      <td>140.000000</td>\n",
       "      <td>0.000000</td>\n",
       "      <td>20.000000</td>\n",
       "      <td>26.295000</td>\n",
       "      <td>-2.572500</td>\n",
       "      <td>109.426000</td>\n",
       "      <td>2013.000000</td>\n",
       "      <td>7.000000</td>\n",
       "      <td>0.000000</td>\n",
       "    </tr>\n",
       "    <tr>\n",
       "      <th>75%</th>\n",
       "      <td>7.100000</td>\n",
       "      <td>7.000000</td>\n",
       "      <td>7.000000</td>\n",
       "      <td>909.750000</td>\n",
       "      <td>445.000000</td>\n",
       "      <td>1.863000</td>\n",
       "      <td>30.000000</td>\n",
       "      <td>49.750000</td>\n",
       "      <td>24.654500</td>\n",
       "      <td>148.941000</td>\n",
       "      <td>2017.000000</td>\n",
       "      <td>10.000000</td>\n",
       "      <td>1.000000</td>\n",
       "    </tr>\n",
       "    <tr>\n",
       "      <th>max</th>\n",
       "      <td>9.100000</td>\n",
       "      <td>9.000000</td>\n",
       "      <td>9.000000</td>\n",
       "      <td>2910.000000</td>\n",
       "      <td>934.000000</td>\n",
       "      <td>17.654000</td>\n",
       "      <td>239.000000</td>\n",
       "      <td>670.810000</td>\n",
       "      <td>71.631200</td>\n",
       "      <td>179.662000</td>\n",
       "      <td>2022.000000</td>\n",
       "      <td>12.000000</td>\n",
       "      <td>1.000000</td>\n",
       "    </tr>\n",
       "  </tbody>\n",
       "</table>\n",
       "</div>"
      ],
      "text/plain": [
       "        magnitude         cdi         mmi          sig         nst  \\\n",
       "count  782.000000  782.000000  782.000000   782.000000  782.000000   \n",
       "mean     6.941125    4.333760    5.964194   870.108696  230.250639   \n",
       "std      0.445514    3.169939    1.462724   322.465367  250.188177   \n",
       "min      6.500000    0.000000    1.000000   650.000000    0.000000   \n",
       "25%      6.600000    0.000000    5.000000   691.000000    0.000000   \n",
       "50%      6.800000    5.000000    6.000000   754.000000  140.000000   \n",
       "75%      7.100000    7.000000    7.000000   909.750000  445.000000   \n",
       "max      9.100000    9.000000    9.000000  2910.000000  934.000000   \n",
       "\n",
       "             dmin         gap       depth    latitude   longitude  \\\n",
       "count  782.000000  782.000000  782.000000  782.000000  782.000000   \n",
       "mean     1.325757   25.038990   75.883199    3.538100   52.609199   \n",
       "std      2.218805   24.225067  137.277078   27.303429  117.898886   \n",
       "min      0.000000    0.000000    2.700000  -61.848400 -179.968000   \n",
       "25%      0.000000   14.625000   14.000000  -14.595600  -71.668050   \n",
       "50%      0.000000   20.000000   26.295000   -2.572500  109.426000   \n",
       "75%      1.863000   30.000000   49.750000   24.654500  148.941000   \n",
       "max     17.654000  239.000000  670.810000   71.631200  179.662000   \n",
       "\n",
       "              Year       Month     tsunami  \n",
       "count   782.000000  782.000000  782.000000  \n",
       "mean   2012.280051    6.563939    0.388747  \n",
       "std       6.099439    3.507866    0.487778  \n",
       "min    2001.000000    1.000000    0.000000  \n",
       "25%    2007.000000    3.250000    0.000000  \n",
       "50%    2013.000000    7.000000    0.000000  \n",
       "75%    2017.000000   10.000000    1.000000  \n",
       "max    2022.000000   12.000000    1.000000  "
      ]
     },
     "execution_count": 5,
     "metadata": {},
     "output_type": "execute_result"
    }
   ],
   "source": [
    "df.describe()"
   ]
  },
  {
   "cell_type": "code",
   "execution_count": 6,
   "id": "febe1379",
   "metadata": {},
   "outputs": [
    {
     "name": "stdout",
     "output_type": "stream",
     "text": [
      "magnitude    0\n",
      "cdi          0\n",
      "mmi          0\n",
      "sig          0\n",
      "nst          0\n",
      "dmin         0\n",
      "gap          0\n",
      "depth        0\n",
      "latitude     0\n",
      "longitude    0\n",
      "Year         0\n",
      "Month        0\n",
      "tsunami      0\n",
      "dtype: int64\n",
      "Quantidade de valores duplicados:  0\n"
     ]
    }
   ],
   "source": [
    "print(df.isnull().sum()) #  Verificar valores nulos\n",
    "print(\"Quantidade de valores duplicados: \",df.duplicated().sum())"
   ]
  },
  {
   "cell_type": "code",
   "execution_count": 7,
   "id": "77429d09",
   "metadata": {},
   "outputs": [],
   "source": [
    "import matplotlib.pyplot as plt\n",
    "import seaborn as sns"
   ]
  },
  {
   "cell_type": "markdown",
   "id": "9880e638",
   "metadata": {},
   "source": [
    "# OUTLIERS, mas valores reais nao eliminar"
   ]
  },
  {
   "cell_type": "code",
   "execution_count": 8,
   "id": "36c8f76c",
   "metadata": {},
   "outputs": [
    {
     "data": {
      "text/plain": [
       "<Axes: ylabel='depth'>"
      ]
     },
     "execution_count": 8,
     "metadata": {},
     "output_type": "execute_result"
    },
    {
     "data": {
      "image/png": "[encoded data removed]",
      "text/plain": [
       "<Figure size 1200x600 with 4 Axes>"
      ]
     },
     "metadata": {},
     "output_type": "display_data"
    }
   ],
   "source": [
    "plt.figure(figsize=(12,6))\n",
    "\n",
    "plt.subplot(2,2,1)\n",
    "sns.boxplot(data=df['magnitude'])\n",
    "\n",
    "plt.subplot(2,2,2)\n",
    "sns.boxplot(data=df['sig'],color='orange')\n",
    "\n",
    "plt.subplot(2,2,3)\n",
    "sns.boxplot(data=df['dmin'])\n",
    "\n",
    "plt.subplot(2,2,4)\n",
    "sns.boxplot(data=df['depth'],color='orange')"
   ]
  },
  {
   "cell_type": "code",
   "execution_count": 9,
   "id": "250ac959",
   "metadata": {},
   "outputs": [
    {
     "data": {
      "text/plain": [
       "<Axes: xlabel='depth', ylabel='Count'>"
      ]
     },
     "execution_count": 9,
     "metadata": {},
     "output_type": "execute_result"
    },
    {
     "data": {
      "image/png": "[encoded data removed]",
      "text/plain": [
       "<Figure size 1200x600 with 4 Axes>"
      ]
     },
     "metadata": {},
     "output_type": "display_data"
    }
   ],
   "source": [
    "plt.figure(figsize=(12,6))\n",
    "\n",
    "plt.subplot(2,2,1)\n",
    "sns.histplot(data=df['magnitude'])\n",
    "\n",
    "plt.subplot(2,2,2)\n",
    "sns.histplot(data=df['sig'],color='orange')\n",
    "\n",
    "plt.subplot(2,2,3)\n",
    "sns.histplot(data=df['dmin'])\n",
    "\n",
    "plt.subplot(2,2,4)\n",
    "sns.histplot(data=df['depth'],color='orange')"
   ]
  },
  {
   "cell_type": "markdown",
   "id": "a1973937",
   "metadata": {},
   "source": [
    "# DIVISAO DO DATASET"
   ]
  },
  {
   "cell_type": "code",
   "execution_count": 10,
   "id": "ef3d51b9",
   "metadata": {},
   "outputs": [],
   "source": [
    "X = df.drop(['tsunami','Year', 'Month'], axis=1)\n",
    "y = df['tsunami']"
   ]
  },
  {
   "cell_type": "code",
   "execution_count": 11,
   "id": "b398069b",
   "metadata": {},
   "outputs": [],
   "source": [
    "from sklearn.model_selection import train_test_split"
   ]
  },
  {
   "cell_type": "code",
   "execution_count": 12,
   "id": "9454aeac",
   "metadata": {},
   "outputs": [],
   "source": [
    "Xtrain, Xtest, ytrain, ytest = train_test_split(X, y, test_size=0.25, random_state=32)"
   ]
  },
  {
   "cell_type": "markdown",
   "id": "f50ab41c",
   "metadata": {},
   "source": [
    "# NORMALIZAR\n",
    "->RobustScaler() para lidar com outliers\n",
    "#\n",
    "->MinMaxScaler() ou StandardScaler() apenas se não houver outliers"
   ]
  },
  {
   "cell_type": "code",
   "execution_count": 13,
   "id": "10bd7be7",
   "metadata": {},
   "outputs": [
    {
     "name": "stdout",
     "output_type": "stream",
     "text": [
      "Fitting 10 folds for each of 74 candidates, totalling 740 fits\n",
      "Melhor modelo e parâmetros:\n",
      "Pipeline(steps=[('scaler', RobustScaler()),\n",
      "                ('model',\n",
      "                 RandomForestClassifier(max_depth=10, n_estimators=200))])\n",
      "Acurácia média (CV): 0.8993278784336646\n"
     ]
    }
   ],
   "source": [
    "from sklearn.model_selection import GridSearchCV\n",
    "from sklearn.ensemble import RandomForestClassifier, GradientBoostingClassifier\n",
    "from sklearn.svm import SVC\n",
    "from sklearn.linear_model import LogisticRegression\n",
    "from sklearn.neighbors import KNeighborsClassifier\n",
    "from sklearn.pipeline import Pipeline\n",
    "from sklearn.preprocessing import RobustScaler\n",
    "\n",
    "pipe = Pipeline([\n",
    "    ('scaler', RobustScaler()),\n",
    "    ('model', RandomForestClassifier())  # Placeholder, será substituído pelo GridSearch\n",
    "])\n",
    "\n",
    "param_grid = [\n",
    "    # Random Forest\n",
    "    {\n",
    "        'model': [RandomForestClassifier()],\n",
    "        'model__n_estimators': [100, 200, 500],\n",
    "        'model__max_depth': [None, 5, 10],\n",
    "        'model__min_samples_split': [2, 5]\n",
    "    },\n",
    "    # SVC\n",
    "    {\n",
    "        'model': [SVC()],\n",
    "        'model__C': [0.1, 1, 5, 10],\n",
    "        'model__kernel': ['linear', 'rbf', 'poly'],\n",
    "        'model__gamma': ['scale', 'auto']\n",
    "    },\n",
    "    # Gradient Boosting\n",
    "    {\n",
    "        'model': [GradientBoostingClassifier()],\n",
    "        'model__n_estimators': [100, 200],\n",
    "        'model__learning_rate': [0.01, 0.1, 0.2],\n",
    "        'model__max_depth': [3, 5]\n",
    "    },\n",
    "    # Logistic Regression\n",
    "    {\n",
    "        'model': [LogisticRegression(max_iter=1000)],\n",
    "        'model__C': [0.01, 0.1, 1, 10],\n",
    "        'model__penalty': ['l2'],\n",
    "        'model__solver': ['lbfgs']\n",
    "    },\n",
    "    # K-Nearest Neighbors\n",
    "    {\n",
    "        'model': [KNeighborsClassifier()],\n",
    "        'model__n_neighbors': [3, 5, 7, 9],\n",
    "        'model__weights': ['uniform', 'distance'],\n",
    "        'model__metric': ['euclidean', 'manhattan']\n",
    "    }\n",
    "]\n",
    "\n",
    "search = GridSearchCV(pipe, param_grid, cv=10, n_jobs=-1, verbose=2)\n",
    "search.fit(Xtrain, ytrain)\n",
    "\n",
    "modelo_otimo = search.best_estimator_\n",
    "print(\"Melhor modelo e parâmetros:\")\n",
    "print(modelo_otimo)\n",
    "print(\"Acurácia média (CV):\", search.best_score_)\n"
   ]
  },
  {
   "cell_type": "code",
   "execution_count": 14,
   "id": "5e8cdbc2",
   "metadata": {},
   "outputs": [
    {
     "name": "stdout",
     "output_type": "stream",
     "text": [
      "Acurácia no teste: 0.8979591836734694\n",
      "              precision    recall  f1-score   support\n",
      "\n",
      "           0       0.94      0.89      0.91       115\n",
      "           1       0.85      0.91      0.88        81\n",
      "\n",
      "    accuracy                           0.90       196\n",
      "   macro avg       0.89      0.90      0.90       196\n",
      "weighted avg       0.90      0.90      0.90       196\n",
      "\n"
     ]
    }
   ],
   "source": [
    "# Avaliação no conjunto de teste\n",
    "accuracy = modelo_otimo.score(Xtest, ytest)  # retorna acurácia\n",
    "print(\"Acurácia no teste:\", accuracy)   #Acertos nos testes\n",
    "\n",
    "\n",
    "from sklearn.metrics import classification_report\n",
    "\n",
    "y_pred = modelo_otimo.predict(Xtest)\n",
    "print(classification_report(ytest, y_pred))"
   ]
  },
  {
   "cell_type": "markdown",
   "id": "04738793",
   "metadata": {},
   "source": [
    "annot=True → mostra os números dentro das células\n",
    "#\n",
    "fmt='d' → formata como inteiro\n",
    "#\n",
    "xticklabels/yticklabels → indica quais classes correspondem às linhas e colunas"
   ]
  },
  {
   "cell_type": "code",
   "execution_count": 15,
   "id": "552b8722",
   "metadata": {},
   "outputs": [
    {
     "data": {
      "image/png": "[encoded data removed]",
      "text/plain": [
       "<Figure size 640x480 with 2 Axes>"
      ]
     },
     "metadata": {},
     "output_type": "display_data"
    }
   ],
   "source": [
    "from sklearn.metrics import confusion_matrix\n",
    "\n",
    "y_pred = modelo_otimo.predict(Xtest)\n",
    "\n",
    "cm = confusion_matrix(ytest, y_pred)\n",
    "\n",
    "sns.heatmap(cm, annot=True, fmt='d', cmap='Blues', xticklabels=[0,1], yticklabels=[0,1])\n",
    "plt.xlabel('Previsto')\n",
    "plt.ylabel('Real')\n",
    "plt.title('Matriz de Confusão')\n",
    "plt.show()"
   ]
  },
  {
   "cell_type": "markdown",
   "id": "a94b71bb",
   "metadata": {},
   "source": [
    "# IMPORTANCIA DAS FEATURES"
   ]
  },
  {
   "cell_type": "code",
   "execution_count": 16,
   "id": "cd08a67b",
   "metadata": {},
   "outputs": [
    {
     "data": {
      "image/png": "[encoded data removed]",
      "text/plain": [
       "<Figure size 640x480 with 1 Axes>"
      ]
     },
     "metadata": {},
     "output_type": "display_data"
    }
   ],
   "source": [
    "# Extrair importâncias\n",
    "importances = modelo_otimo.named_steps['model'].feature_importances_\n",
    "\n",
    "# Criar DataFrame com nomes das features\n",
    "feature_names = Xtrain.columns  # ou a lista das tuas features\n",
    "feat_importances = pd.Series(importances, index=feature_names)\n",
    "\n",
    "# Ordenar e plotar\n",
    "feat_importances.sort_values().plot(kind='barh', color='skyblue')\n",
    "plt.title('Importância das Features')\n",
    "plt.xlabel('Importância')\n",
    "plt.show()"
   ]
  },
  {
   "cell_type": "code",
   "execution_count": 17,
   "id": "b8d48818",
   "metadata": {},
   "outputs": [
    {
     "name": "stdout",
     "output_type": "stream",
     "text": [
      "{'Previsão (0=não, 1=tsunami)': 0, 'Probabilidade de tsunami': 0.381, 'Top 5 features que influenciaram': {'dmin': 0.25121052645186087, 'nst': 0.25032174173217936, 'longitude': 0.1725115608367651, 'latitude': 0.08806310073412897, 'depth': 0.05500373980288679}}\n"
     ]
    }
   ],
   "source": [
    "import numpy as np\n",
    "\n",
    "# Supondo que modelo_otimo já foi treinado como no teu pipeline anterior\n",
    "\n",
    "def prever_tsunami(novo_evento):\n",
    "    \"\"\"\n",
    "    Recebe um dict ou DataFrame com as features de um novo terremoto\n",
    "    Retorna previsão, probabilidade e features mais importantes\n",
    "    \"\"\"\n",
    "    # Converter dict em DataFrame se necessário\n",
    "    if isinstance(novo_evento, dict):\n",
    "        novo_evento = pd.DataFrame([novo_evento])\n",
    "    \n",
    "    # Previsão\n",
    "    pred = modelo_otimo.predict(novo_evento)[0]\n",
    "    prob = modelo_otimo.predict_proba(novo_evento)[0][1]  # Probabilidade de tsunami\n",
    "    \n",
    "    # Importância das features\n",
    "    importances = modelo_otimo.named_steps['model'].feature_importances_\n",
    "    feat_importances = pd.Series(importances, index=novo_evento.columns)\n",
    "    top_features = feat_importances.sort_values(ascending=False).head(5)\n",
    "    \n",
    "    resultado = {\n",
    "        \"Previsão (0=não, 1=tsunami)\": pred,\n",
    "        \"Probabilidade de tsunami\": round(prob, 3),\n",
    "        \"Top 5 features que influenciaram\": top_features.to_dict()\n",
    "    }\n",
    "    return resultado\n",
    "\n",
    "# Exemplo de uso\n",
    "novo_terremoto = {\n",
    "    \"magnitude\": 7.8,\n",
    "    \"cdi\": 8,\n",
    "    \"mmi\": 7,\n",
    "    \"sig\": 1800,\n",
    "    \"nst\": 100,\n",
    "    \"dmin\": 2.5,\n",
    "    \"gap\": 30,\n",
    "    \"depth\": 15,\n",
    "    \"latitude\": -3.2,\n",
    "    \"longitude\": 120.5\n",
    "}\n",
    "\n",
    "alerta = prever_tsunami(novo_terremoto)\n",
    "print(alerta)\n"
   ]
  },
  {
   "cell_type": "code",
   "execution_count": 18,
   "id": "c7527b87",
   "metadata": {},
   "outputs": [
    {
     "data": {
      "text/plain": [
       "['modelo_tsunami.pkl']"
      ]
     },
     "execution_count": 18,
     "metadata": {},
     "output_type": "execute_result"
    }
   ],
   "source": [
    "import joblib\n",
    "joblib.dump(modelo_otimo, 'modelo_tsunami.pkl')"
   ]
  }
 ],
 "metadata": {
  "kernelspec": {
   "display_name": "base",
   "language": "python",
   "name": "python3"
  },
  "language_info": {
   "codemirror_mode": {
    "name": "ipython",
    "version": 3
   },
   "file_extension": ".py",
   "mimetype": "text/x-python",
   "name": "python",
   "nbconvert_exporter": "python",
   "pygments_lexer": "ipython3",
   "version": "3.12.4"
  }
 },
 "nbformat": 4,
 "nbformat_minor": 5
}
